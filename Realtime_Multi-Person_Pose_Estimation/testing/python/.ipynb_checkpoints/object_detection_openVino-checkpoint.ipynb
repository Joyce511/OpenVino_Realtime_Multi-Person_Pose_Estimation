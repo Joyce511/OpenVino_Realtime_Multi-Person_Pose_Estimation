{
 "metadata": {
  "name": "",
  "signature": "sha256:9345f2ecb41b3345e5b5881ae39939bd77fa13ea1842b4876d36fbd435d3fb0e"
 },
 "nbformat": 3,
 "nbformat_minor": 0,
 "worksheets": [
  {
   "cells": [
    {
     "cell_type": "code",
     "collapsed": false,
     "input": [
      "from __future__ import print_function\n",
      "import sys\n",
      "import os\n",
      "from argparse import ArgumentParser\n",
      "import cv2\n",
      "import time\n",
      "\n",
      "from openvino.inference_engine import IENetwork, IEPlugin"
     ],
     "language": "python",
     "metadata": {},
     "outputs": [],
     "prompt_number": 1
    },
    {
     "cell_type": "code",
     "collapsed": false,
     "input": [
      "model_xml = \"/opt/intel/computer_vision_sdk/deployment_tools/inference_engine/samples/python_samples/face-detection-adas-0001.xml\"\n",
      "model_bin = os.path.splitext(model_xml)[0] + \".bin\"\n",
      "prob_threshold = 0.5\n",
      "labels_map = None"
     ],
     "language": "python",
     "metadata": {},
     "outputs": [],
     "prompt_number": 2
    },
    {
     "cell_type": "code",
     "collapsed": false,
     "input": [
      "print(\"Initializing plugin for CPU device...\")\n",
      "plugin = IEPlugin(device=\"CPU\", plugin_dirs=None)"
     ],
     "language": "python",
     "metadata": {},
     "outputs": [
      {
       "output_type": "stream",
       "stream": "stdout",
       "text": [
        "Initializing plugin for CPU device...\n"
       ]
      }
     ],
     "prompt_number": 3
    },
    {
     "cell_type": "code",
     "collapsed": false,
     "input": [
      "print(\"Adding CPU extenstions...\")\n",
      "plugin.add_cpu_extension(\"/opt/intel/computer_vision_sdk/deployment_tools/inference_engine/lib/ubuntu_16.04/intel64/libcpu_extension_sse4.so\")"
     ],
     "language": "python",
     "metadata": {},
     "outputs": [
      {
       "output_type": "stream",
       "stream": "stdout",
       "text": [
        "Adding CPU extenstions...\n"
       ]
      }
     ],
     "prompt_number": 4
    },
    {
     "cell_type": "code",
     "collapsed": false,
     "input": [
      "print(\"Reading IR...\")\n",
      "net = IENetwork.from_ir(model=model_xml, weights=model_bin)\n",
      "assert len(net.inputs.keys()) == 1, \"Sample supports only single input topologies\"\n",
      "assert len(net.outputs) == 1, \"Sample supports only single output topologies\"\n",
      "input_blob = next(iter(net.inputs))\n",
      "out_blob = next(iter(net.outputs))"
     ],
     "language": "python",
     "metadata": {},
     "outputs": [
      {
       "output_type": "stream",
       "stream": "stdout",
       "text": [
        "Reading IR...\n"
       ]
      }
     ],
     "prompt_number": 5
    },
    {
     "cell_type": "code",
     "collapsed": false,
     "input": [
      "print(\"Loading IR to the plugin...\")\n",
      "exec_net = plugin.load(network=net, num_requests=2)\n",
      "# Read and pre-process input image\n",
      "n, c, h, w = net.inputs[input_blob]\n",
      "del net"
     ],
     "language": "python",
     "metadata": {},
     "outputs": [
      {
       "output_type": "stream",
       "stream": "stdout",
       "text": [
        "Loading IR to the plugin...\n"
       ]
      }
     ],
     "prompt_number": 6
    },
    {
     "cell_type": "code",
     "collapsed": false,
     "input": [
      "input_stream = \"/opt/intel/computer_vision_sdk/deployment_tools/inference_engine/samples/python_samples/signAll.mp4\"\n",
      "cap = cv2.VideoCapture(input_stream)\n",
      "cur_request_id = 0\n",
      "next_request_id = 1\n",
      "\n",
      "print(\"Starting inference in async mode...\")\n",
      "is_async_mode = True\n",
      "render_time = 0\n"
     ],
     "language": "python",
     "metadata": {},
     "outputs": [
      {
       "output_type": "stream",
       "stream": "stdout",
       "text": [
        "Starting inference in async mode...\n"
       ]
      }
     ],
     "prompt_number": 7
    },
    {
     "cell_type": "code",
     "collapsed": false,
     "input": [
      "while cap.isOpened():\n",
      "        ret, frame = cap.read()\n",
      "        if not ret:\n",
      "            break\n",
      "        initial_w = cap.get(3)\n",
      "        initial_h = cap.get(4)\n",
      "        in_frame = cv2.resize(frame, (w, h))\n",
      "        in_frame = in_frame.transpose((2, 0, 1))  # Change data layout from HWC to CHW\n",
      "        in_frame = in_frame.reshape((n, c, h, w))\n",
      "\n",
      "        # Main sync point:\n",
      "        # in the truly Async mode we start the NEXT infer request, while waiting for the CURRENT to complete\n",
      "        # in the regular mode we start the CURRENT request and immediately wait for it's completion\n",
      "        inf_start = time.time()\n",
      "        if is_async_mode:\n",
      "            exec_net.start_async(request_id=next_request_id, inputs={input_blob: in_frame})\n",
      "        else:\n",
      "            exec_net.start_async(request_id=cur_request_id, inputs={input_blob: in_frame})\n",
      "        if exec_net.requests[cur_request_id].wait(-1) == 0:\n",
      "            inf_end = time.time()\n",
      "            det_time = inf_end - inf_start\n",
      "\n",
      "            # Parse detection results of the current request\n",
      "            res = exec_net.requests[cur_request_id].outputs[out_blob]\n",
      "            for obj in res[0][0]:\n",
      "                # Draw only objects when probability more than specified threshold\n",
      "                if obj[2] > prob_threshold:\n",
      "                    xmin = int(obj[3] * initial_w)\n",
      "                    ymin = int(obj[4] * initial_h)\n",
      "                    xmax = int(obj[5] * initial_w)\n",
      "                    ymax = int(obj[6] * initial_h)\n",
      "                    class_id = int(obj[1])\n",
      "                    # Draw box and label\\class_id\n",
      "                    color = (min(class_id * 12.5, 255), min(class_id * 7, 255), min(class_id * 5, 255))\n",
      "                    cv2.rectangle(frame, (xmin, ymin), (xmax, ymax), color, 2)\n",
      "                    det_label = labels_map[class_id] if labels_map else str(class_id)\n",
      "                    cv2.putText(frame, det_label + ' ' + str(round(obj[2] * 100, 1)) + ' %', (xmin, ymin - 7), cv2.FONT_HERSHEY_COMPLEX, 0.6, color, 1)\n",
      "\n",
      "            # Draw performance stats\n",
      "            inf_time_message = \"Inference time: N\\A for async mode\" if is_async_mode else \\\n",
      "                               \"Inference time: {:.3f} ms\".format(det_time * 1000)\n",
      "            render_time_message = \"OpenCV rendering time: {:.3f} ms\".format(render_time * 1000)\n",
      "            async_mode_message = \"Async mode is on. Processing request {}\".format(cur_request_id) if is_async_mode else \\\n",
      "                                 \"Async mode is off. Processing request {}\".format(cur_request_id)\n",
      "            fps_message = \"FPS: {:.1f}\".format(fps);\n",
      "\n",
      "            cv2.putText(frame, inf_time_message, (15, 15), cv2.FONT_HERSHEY_COMPLEX, 0.5, (200, 10, 10), 1)\n",
      "            cv2.putText(frame, render_time_message, (15, 30), cv2.FONT_HERSHEY_COMPLEX, 0.5, (10, 10, 200), 1)\n",
      "            cv2.putText(frame, fps_message, (15, 45), cv2.FONT_HERSHEY_COMPLEX, 0.5, (10, 10, 200), 1)\n",
      "            cv2.putText(frame, async_mode_message, (10, int(initial_h - 20)), cv2.FONT_HERSHEY_COMPLEX, 0.5, (10, 10, 200), 1)\n",
      "\n",
      "        #\n",
      "        render_start = time.time()\n",
      "        cv2.imshow(\"Detection Results\", frame)\n",
      "        render_end = time.time()\n",
      "        render_time = render_end - render_start\n",
      "        fps = float(60/(render_time*1000))\n",
      "\n",
      "        key = cv2.waitKey(1)\n",
      "        if key == 27:\n",
      "            break\n",
      "        if (9 == key):\n",
      "            is_async_mode = not is_async_mode\n",
      "            print(\"Switched to {} mode\".format(\"async\" if is_async_mode else \"sync\"))\n",
      "\n",
      "        if is_async_mode:\n",
      "            cur_request_id, next_request_id = next_request_id, cur_request_id\n",
      "\n",
      "cv2.destroyAllWindows()\n",
      "del exec_net\n",
      "del plugin"
     ],
     "language": "python",
     "metadata": {},
     "outputs": [],
     "prompt_number": 8
    },
    {
     "cell_type": "code",
     "collapsed": false,
     "input": [],
     "language": "python",
     "metadata": {},
     "outputs": [],
     "prompt_number": 8
    }
   ],
   "metadata": {}
  }
 ]
}